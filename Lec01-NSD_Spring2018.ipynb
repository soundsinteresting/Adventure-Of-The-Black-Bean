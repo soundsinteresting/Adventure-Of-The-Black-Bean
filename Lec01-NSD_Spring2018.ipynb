{
 "cells": [
  {
   "cell_type": "markdown",
   "metadata": {
    "slideshow": {
     "slide_type": "slide"
    }
   },
   "source": [
    "# Stochastic calculus and its applications in quantitative finance\n",
    "## National School of Development, Spring 2018 \n",
    "\n",
    "## Lecture 1: Probability space, random variable, and stochastic process\n",
    "\n",
    "\n",
    "Tai-Ho Wang (王 太 和)   \n",
    "   \n",
    "<h2><img src=\"http://mfe.baruch.cuny.edu/wp-content/uploads/2014/07/BaruchLogo2.png\" align = \"center\" height=50 width=190></h2>\n",
    "and \n",
    "<br>\n",
    "<h2><img src=\"NSD-logo.jpeg\", height=120, width=480></h2>\n",
    "\n",
    "$$\n",
    "\\newcommand{\\bea}{\\begin{eqnarray}}\n",
    "\\newcommand{\\eea}{\\end{eqnarray}}\n",
    "\\newcommand{\\supp}{\\mathrm{supp}}\n",
    "\\newcommand{\\cB}{\\mathcal{B}}\n",
    "\\newcommand{\\F}{\\mathcal{F} }\n",
    "\\newcommand{\\G}{\\mathcal{G} }\n",
    "\\newcommand{\\cG}{\\mathcal{G} }\n",
    "\\newcommand{\\cF}{\\mathcal{F} }\n",
    "\\newcommand{\\E}{\\mathbb{E} }\n",
    "\\newcommand{\\Eof}[1]{\\mathbb{E}\\left[ #1 \\right]}\n",
    "\\def\\Cov{{ \\mbox{Cov} }}\n",
    "\\def\\Var{{ \\mbox{Var} }}\n",
    "\\newcommand{\\1}{\\mathbf{1} }\n",
    "\\newcommand{\\P}{\\mathbb{P} }\n",
    "\\newcommand{\\Pof}[1]{\\mathbb{P}\\left[ #1 \\right]}\n",
    "\\newcommand{\\QQ}{\\mathbb{Q} }\n",
    "\\newcommand{\\R}{\\mathbb{R} }\n",
    "\\newcommand{\\DD}{\\mathbb{D} }\n",
    "\\newcommand{\\HH}{\\mathbb{H} }\n",
    "\\newcommand{\\spn}{\\mathrm{span} }\n",
    "\\newcommand{\\cov}{\\mathrm{cov} }\n",
    "\\newcommand{\\HS}{\\mathcal{L}_{\\mathrm{HS}} }\n",
    "\\newcommand{\\trace}{\\mathrm{trace} }\n",
    "\\newcommand{\\LL}{\\mathcal{L} }\n",
    "\\newcommand{\\s}{\\mathcal{S} }\n",
    "\\newcommand{\\ee}{\\mathcal{E} }\n",
    "\\newcommand{\\ff}{\\mathcal{F} }\n",
    "\\newcommand{\\hh}{\\mathcal{H} }\n",
    "\\newcommand{\\bb}{\\mathcal{B} }\n",
    "\\newcommand{\\dd}{\\mathcal{D} }\n",
    "\\newcommand{\\g}{\\mathcal{G} }\n",
    "\\newcommand{\\half}{\\frac{1}{2} }\n",
    "\\newcommand{\\T}{\\mathcal{T} }\n",
    "\\newcommand{\\bit}{\\begin{itemize}}\n",
    "\\newcommand{\\eit}{\\end{itemize}}\n",
    "\\newcommand{\\beq}{\\begin{equation}}\n",
    "\\newcommand{\\eeq}{\\end{equation}}\n",
    "$$"
   ]
  },
  {
   "cell_type": "markdown",
   "metadata": {},
   "source": [
    "## Coordinates\n",
    "\n",
    "* Email: tai-ho.wang@baruch.cuny.edu\n",
    "* Webpage: mfe.baruch.cuny.edu/tai-ho.wang\n",
    "* Office: 朗潤園505\n",
    "\n",
    "\n",
    "- Office hour: Wednesdays 10 ~ 11am or by appointment\n",
    "- TA: 陳鑫泉, cxq.ccer@gmail.com\n",
    "- Discussion forum: http://forum.nsd.edu.cn/showforum-466.aspx\n"
   ]
  },
  {
   "cell_type": "markdown",
   "metadata": {},
   "source": [
    "## Important dates\n",
    "\n",
    "- **No classes** on Wed, <font color=blue>Mar-14-2018</font> and Thu, <font color=blue> Mar-15-2018</font>\n",
    "\n",
    "- **Make up classes**: Thu, <font color=blue>Mar-22-2018</font> and Thu, <font color=blue>Apr-19-2018</font> \n",
    "\n",
    "- **Midterm**: Thu, <font color=blue>Apr-26-2018, 3:10pm ~ 5pm</font>\n",
    "\n",
    "- **Final**: Wed, <font color=blue>Jun-27-2018, 2pm ~ 4pm</font>"
   ]
  },
  {
   "cell_type": "markdown",
   "metadata": {
    "slideshow": {
     "slide_type": "slide"
    }
   },
   "source": [
    "## Outline of Lecture 1\n",
    "\n",
    "* Probability space \n",
    "\n",
    "* Conditional expectation and conditional probability\n",
    "\n",
    "* Properties of conditional expectation\n",
    "\n",
    "* Independence\n",
    "\n",
    "* Random variable\n",
    "\n",
    "* Stochastic process in general\n"
   ]
  },
  {
   "cell_type": "markdown",
   "metadata": {},
   "source": [
    "## A little bit of set theory\n",
    "Let $\\Omega$ be a set.\n",
    "\n",
    "* $A^c = \\Omega\\setminus A := \\{x\\in\\Omega: x \\not\\in A\\}$\n",
    "\n",
    "\n",
    "* $A \\setminus B := \\{x\\in A: x \\not\\in B\\}$\n",
    "\n",
    "\n",
    "* $A \\cap B := \\{x \\in \\Omega : x \\in A \\mbox{ and } x \\in B\\}$\n",
    "\n",
    "\n",
    "* $A \\cup B := \\{x \\in \\Omega : x \\in A \\mbox{ or } x \\in B\\}$\n",
    "\n",
    "\n",
    "* $\\displaystyle\\bigcup_{i=1}^n A_i := \\{x \\in \\Omega: x \\in A_i \\mbox{ for some } 1 \\leq i \\leq n \\}$\n",
    "\n",
    "\n",
    "* $\\displaystyle\\bigcup_{i=1}^\\infty A_i := \\{x \\in \\Omega: x \\in A_i \\mbox{ for some } i \\}$\n",
    "\n",
    "    Note: $\\displaystyle\\bigcup_{i=1}^n A_i \\nearrow \\displaystyle\\bigcup_{i=1}^\\infty A_i$ as $n\\to\\infty$\n",
    "\n",
    "\n",
    "* $\\displaystyle\\bigcap_{i=1}^n A_i := \\{x \\in \\Omega: x \\in A_i \\mbox{ for all } i = 1,2,\\cdots,n \\}$\n",
    "\n",
    "\n",
    "* $\\displaystyle\\bigcap_{i=1}^\\infty A_i := \\{x \\in \\Omega: x \\in A_i \\mbox{ for all } i \\}$\n",
    "\n",
    "    Note: $\\displaystyle\\bigcap_{i=1}^n A_i \\searrow \\displaystyle\\bigcap_{i=1}^\\infty A_i$ as $n\\to\\infty$\n",
    "\n",
    "\n",
    "* $2^\\Omega$ := the collection all subsets of $\\Omega$. $2^\\Omega$ is called the *power set* of $\\Omega$\n",
    "\n",
    "\n",
    "* De Morgan's law\n",
    "    $$ \n",
    "    \\left(\\bigcup_{i=1}^\\infty A_i \\right)^c = \\bigcap_{i=1}^\\infty A_i^c\n",
    "    $$ \n",
    "    \n",
    "    $$\n",
    "    \\left(\\bigcap_{i=1}^\\infty A_i \\right)^c = \\bigcup_{i=1}^\\infty A_i^c\n",
    "    $$"
   ]
  },
  {
   "cell_type": "markdown",
   "metadata": {},
   "source": [
    "## $\\sigma$-algebra\n",
    "\n",
    "Let $\\Omega$ be a set and $\\cF$ a collection of subsets of $\\Omega$. \n",
    "\n",
    "#### Definition\n",
    "$\\cF$ is called a *$\\sigma$-algebra* if it satisfies\n",
    "\n",
    "* $\\emptyset, \\Omega \\in \\cF$\n",
    "\n",
    "\n",
    "* If $A \\in \\cF$, then $A^c \\in \\cF$\n",
    "\n",
    "\n",
    "* If a sequence of sets $\\{A_i\\}_{i=1}^\\infty$ satisfying $A_i \\in \\cF$ for all $i$, then $\\bigcup_{i=1}^\\infty A_i \\in \\cF$. \n",
    "\n",
    "#### Note\n",
    "\n",
    "* In probability theory, sets contained in $\\cF$ are usually referred to as *events*; while in measure theory they are called *$\\cF$-measurable sets* or simply *measurable sets* for short. \n",
    "\n",
    "\n",
    "* Intuitively, we can think of the sets in $\\cF$ as the information in disposal and they are the sets that we can and will assign probabilities to.  \n",
    "\n",
    "\n",
    "* Typical examples are <br>\n",
    "    1) the finest $\\sigma$-algebra $2^\\Omega$ <br>\n",
    "    2) the coarest $\\sigma$-algebra $\\{\\emptyset,\\Omega\\}$ <br>\n",
    "    3) the Borel sets in $\\R$: the smallest $\\sigma$-algebra that contains all the open intervals <br>"
   ]
  },
  {
   "cell_type": "markdown",
   "metadata": {},
   "source": [
    "## Probability space\n",
    "\n",
    "A probability space, usually denoted by a triplet $(\\Omega,\\cF,\\P)$, consists of \n",
    "\n",
    "* a sample space $\\Omega$, which contains all possible outcomes of random experiments/scenarios under consideration\n",
    "\n",
    "\n",
    "* a $\\sigma$-algebra containing all the subsets to which probabilities are to be assigned.\n",
    "\n",
    "\n",
    "* a probability measure, which is a set function assigning probabilities to every event in $\\cF$ and satisfies \n",
    "    \n",
    "    * $\\Pof{\\Omega}=1$\n",
    "    \n",
    "    * $0 \\leq \\Pof{E} \\leq 1$ for every $E \\in \\cF$ \n",
    "    <br>   \n",
    "    * (countable additivity) If $E_1,E_2,\\cdots \\in \\cF$ and $E_i\\cap E_j = \\emptyset$ for all $i \\neq j$, then \n",
    "    \n",
    "    $$\n",
    "      \\Pof{\\bigcup_{i=1}^\\infty E_i} = \\sum_{i=1}^\\infty \\Pof{E_i}\n",
    "    $$\n",
    "    \n",
    "#### Note\n",
    "In most of the elementary probability questions, the sample space $\\Omega$ is usually a finite set and each sample point is equally likely to occur. In mathematical terms, $\\Omega = \\{\\omega_1, \\cdots, \\omega_n\\}$ and $\\Pof{\\omega_i} = \\frac1n$, for $i = 1,\\cdots,n$. \n",
    "    \n",
    "#### Remark\n",
    "\n",
    "* A sequence of events $\\{E_i\\}_{i \\geq 1}$ is called *mutually disjoint* or *mutually exclusive* if $E_i \\cap E_j = \\emptyset$ for all $i \\neq j$.\n",
    "\n",
    "\n",
    "* A sequence of events $\\{E_i\\}_{i \\geq 1}$ is called a *partition* of the sample space $\\Omega$ if it is mutually disjoint and $\\bigcup_{i\\geq 1} E_i = \\Omega$."
   ]
  },
  {
   "cell_type": "markdown",
   "metadata": {},
   "source": [
    "## Properties of probability measusre\n",
    "\n",
    "* (finite additivity) If $A_1, \\cdots, A_n$ are mutually disjoint, then \n",
    "\n",
    "    $$\n",
    "    \\Pof{\\bigcup_{i=1}^n A_i} = \\sum_{i=1}^n \\Pof{A_i}.\n",
    "    $$\n",
    "    \n",
    "    In particular, if $A \\cap B = \\emptyset$, then $\\Pof{A \\cup B} = \\Pof{A} + \\Pof{B}$.\n",
    "\n",
    "\n",
    "* If $A \\subset B$, then $\\Pof{A} \\leq \\Pof{B}$\n",
    "\n",
    "\n",
    "* $\\Pof{A^c} = 1 - \\Pof{A}$\n",
    "\n",
    "\n",
    "* $\\Pof{A \\cup B} = \\Pof{A} + \\Pof{B} - \\Pof{A \\cap B}$\n",
    "\n",
    "\n",
    "* (Inclusion-exclusion formula)\n",
    "\n",
    "    $$\n",
    "    \\begin{eqnarray*}\n",
    "    && \\Pof{\\bigcup_{i=1}^n E_i} = \\sum_{i=1}^n \\Pof{E_i} - \\sum_{i\\lt j} \\Pof{E_i \\cap E_j} + \\sum_{i\\lt j\\lt k} \\Pof{E_i\\cap E_j \\cap E_k} \\\\\n",
    "    && + \\cdots + (-1)^{n+1} \\Pof{E_1 \\cap \\cdots \\cap E_n}\n",
    "    \\end{eqnarray*}\n",
    "    $$"
   ]
  },
  {
   "cell_type": "markdown",
   "metadata": {},
   "source": [
    "## An application of the inclusion-exclusion formula\n",
    "\n",
    "### Matching problem \n",
    "\n",
    "An absent-minded professor was preparing $n$ recommendation letters and envelopes that are supposed to send to $n$ distinct programs, but he ended up stuffing the letters into the envelopes randomly. What is the probability that none of the letters match their corresponding envelopes, assuming each scenario is equally likely to happen? \n",
    "\n",
    "\n",
    "#### Note \n",
    "This is a special case of the, slightly more general, well-known matching problem. Given the answer to question above, it is pretty straightforward to determine the probability (distribution) of exact $k$, $0 \\leq k\\leq n$, letters match their envelopes. (How?)"
   ]
  },
  {
   "cell_type": "markdown",
   "metadata": {},
   "source": [
    "## Conditional probability \n",
    "\n",
    "Let $A$, $B$ be two events with $\\Pof{B} > 0$. \n",
    "\n",
    "#### Definition\n",
    "The conditional probability of $A$ conditioned on $B$, denoted by $\\Pof{A|B}$, is defined as\n",
    "\n",
    "$$\n",
    "\\Pof{A|B} = \\frac{\\Pof{A \\cap B}}{\\Pof{B}}.\n",
    "$$\n",
    "\n",
    "> It was as if we ignore all the sample points in $A$ that are not in $B$, then regard $B$ as a sample space to evaluate the probability of $A$ (normalized by the probability of $B$)."
   ]
  },
  {
   "cell_type": "markdown",
   "metadata": {},
   "source": [
    "## Properties of conditional probability \n",
    "\n",
    "* $\\Pof{\\cdot|B}$ is indeed a probability measure. \n",
    "\n",
    "\n",
    "* $\\Pof{A \\cap B} = \\Pof{A|B} \\Pof{B} = \\Pof{B|A} \\Pof{A}$\n",
    "\n",
    "\n",
    "* (Bayes' rule) \n",
    "\n",
    "    $$\n",
    "    \\Pof{A|B} = \\frac{\\Pof{B|A}\\Pof{A}}{\\Pof{B|A}\\Pof{A} + \\Pof{B|A^c}\\Pof{A^c}}\n",
    "    $$\n",
    "    \n",
    "\n",
    "* (Generalized Bayes' rule) Let $\\{E_n\\}_{n=1}^N$ be a partition of the sample space $\\Omega$. Then\n",
    "\n",
    "    $$\n",
    "    \\Pof{E_n|A} = \\frac{\\Pof{A|E_n}\\Pof{E_n}}{\\sum_{m=1}^N \\Pof{A|E_m}\\Pof{E_m}}\n",
    "    $$\n",
    "\n",
    "\n",
    "* Let $\\{E_n\\}_{n=1}^N$ be a partition. Then\n",
    "\n",
    "    $$\n",
    "    \\Pof{A} = \\sum_{n=1}^N \\Pof{A|E_n} \\Pof{E_n}\n",
    "    $$\n",
    "\n",
    "\n",
    "* Let $\\{E_n\\}_{n=1}^N$ be a partition. Then\n",
    "\n",
    "    $$\n",
    "    \\Pof{A|B} = \\sum_{n=1}^N \\Pof{A|B\\cap E_n} \\Pof{E_n | B}\n",
    "    $$"
   ]
  },
  {
   "cell_type": "markdown",
   "metadata": {},
   "source": [
    "## Sunrise problem\n",
    "\n",
    "The sunrise problem, first introduced in the 18th century by Pierre-Simon Laplace, can be decribed as <br> \n",
    "\"Given that we have observed sunrise every day, what is the probability that the sun will rise tomorrow morning?\"\n",
    "\n",
    "Let's consider a coin flip version of the problem as follows. There are $n+1$ coins numbered from $0$ to $n$. For $i=0,\\cdots,n$, the $i$th coins has probability $\\frac in$ turning up head if flipped. Therefore, the zeroth coin has no head whereas the $n$th coin has only heads. A coin was randomly chosen among the $n+1$ coins and has been flipped $k$ times, the results are all heads. What is the probability that the next flip is a head? "
   ]
  },
  {
   "cell_type": "markdown",
   "metadata": {},
   "source": [
    "## Independence of events\n",
    "\n",
    "Two events $A$ and $B$ are called *independent* if \n",
    "\n",
    "$$\n",
    "\\Pof{A\\cap B} = \\Pof{A} \\, \\Pof{B}.\n",
    "$$\n",
    "\n",
    "#### Note\n",
    "It is more intuitive if understood as $\\Pof{A|B} = \\Pof{A}$ or $\\Pof{B|A} = \\Pof{B}$.\n",
    "\n",
    "Three events are called *independent* if \n",
    "\n",
    "* $\\Pof{A \\cap B} = \\Pof{A} \\Pof{B}$, $\\Pof{A \\cap C} = \\Pof{A} \\Pof{C}$, and $\\Pof{B \\cap C} = \\Pof{B} \\Pof{C}$.\n",
    "\n",
    "\n",
    "* $\\Pof{A \\cap B \\cap C} = \\Pof{A} \\Pof{B} \\Pof{C}$.\n",
    "\n",
    "The first condition is called *pairwise independent* which by itself alone does not imply the \"full independence\" of three events."
   ]
  },
  {
   "cell_type": "markdown",
   "metadata": {},
   "source": [
    "## Random variable\n",
    "\n",
    "Let $(\\Omega, \\cF, \\P)$ be a probability space. \n",
    "\n",
    "#### Definition (Random variable)\n",
    "A random variable on $\\Omega$ is a function from $\\Omega$ to $\\R$ such that \n",
    "\n",
    "$$\n",
    "X^{-1}(B) := \\{ \\omega \\in \\Omega : X(\\omega) \\in B \\} \\in \\cF\n",
    "$$\n",
    "\n",
    "for every Borel set $B \\subset \\R$.\n",
    "\n",
    "#### Note\n",
    "In mathematical terms (measure theory), $X$ is called measurable function from $\\Omega$ to $\\R$.\n"
   ]
  },
  {
   "cell_type": "markdown",
   "metadata": {},
   "source": [
    "## $\\sigma$-algebra generated by a random variable\n",
    "\n",
    "Let $X:\\Omega \\to \\R$. Then the collection of subsets of $\\Omega$ defined by\n",
    "\n",
    "$$\n",
    "\\cF^X := \\{X^{-1}(B) \\subset \\Omega : B \\in \\cB \\}\n",
    "$$\n",
    "\n",
    "is a $\\sigma$-algebra (why?). \n",
    "\n",
    "#### Definition \n",
    "$\\cF^X$ is called the *$\\sigma$-algebra generated by $X$*. \n",
    "\n",
    "In other words, $\\cF^X$ is the smallest $\\sigma$-algebra that makes $X$ a random variable (or a measurable function). "
   ]
  },
  {
   "cell_type": "markdown",
   "metadata": {},
   "source": [
    "## $\\sigma$-algebra generated by an event\n",
    "\n",
    "Let $A$ be an event. Define $\\cF^A$ by \n",
    "\n",
    "$$\n",
    "\\cF^A = \\{\\emptyset, A, A^c, \\Omega\\}\n",
    "$$\n",
    "\n",
    "which is obviously a $\\sigma$-algebra. \n",
    "\n",
    "#### Definition \n",
    "$\\cF^A$ is called the $\\sigma$-algebra generated by $A$. \n",
    "\n",
    "#### Note\n",
    "* $\\cF^A$ is the smallest $\\sigma$-algebra that contains the event $A$.\n",
    "* $\\cF^A$ is also the $\\sigma$-algebra generated by the random variable $\\1_{A}$, which is also referred to as the indicator function of $A$. \n"
   ]
  },
  {
   "cell_type": "markdown",
   "metadata": {},
   "source": [
    "## Independence of random variables \n",
    "\n",
    "Two random variables $X$ and $Y$ are called *independent* if, for any Borel sets $A$ and $B$,\n",
    "\n",
    "$$\n",
    "\\Pof{X\\in A, Y\\in B} = \\Pof{X \\in A}\\,\\Pof{Y \\in B}.\n",
    "$$"
   ]
  },
  {
   "cell_type": "markdown",
   "metadata": {
    "slideshow": {
     "slide_type": "slide"
    }
   },
   "source": [
    "## Conditional expectation\n",
    "\n",
    "Let $(\\Omega, \\cF, \\P)$ be a probability space, $\\G$ a sub $\\sigma$-algebra of $\\cF$ and $X$ be a random variable with $\\E|X| < \\infty$.\n",
    "\n",
    "\n",
    "#### Definition (Conditional expectation)\n",
    "\n",
    "The conditional expectation of $X$ given $\\G$, denoted by $\\E[X | \\G]$, is defined as any random variable $Y$ which satisfies \n",
    "\n",
    "* $Y$ is $\\G$-measurable.\n",
    "\n",
    "\n",
    "* $\\displaystyle \\int_A X d\\P = \\int_A Y d\\P{}$ for all $A \\in \\G$.\n",
    "\n",
    "#### Remark\n",
    "\n",
    "* Any random variable $Y$ satisfies the two conditions in the definition is called a *version* of $\\E[X | \\G]$.\n",
    "\n",
    "* We can think of $\\G$ as describing the information we have, so $\\E[X|\\G]$ is the ``best guess\" of the value of $X$ given the information $\\G$, see the Minimizing property below."
   ]
  },
  {
   "cell_type": "markdown",
   "metadata": {
    "slideshow": {
     "slide_type": "slide"
    }
   },
   "source": [
    "## Properties of conditional expectation\n",
    "\n",
    "Let $X$ and $Y$ be integrable random variables and $\\G$ be a $\\sigma$-algebra.\n",
    "\n",
    "* *Linearity*\n",
    "\n",
    "    $\\E[\\alpha X + \\beta Y | \\G] = \\alpha \\E[X | \\G] + \\beta \\E[Y | \\G]$.\n",
    "\n",
    "\n",
    "* *Monotonicity*\n",
    "\n",
    "    If $X \\leq Y$, then $\\E[X | \\G] \\leq \\E[Y | \\G]$.\n",
    "\n",
    "\n",
    "* *Chebyshev inequality* \n",
    "\n",
    "    $\\lambda^2 \\Pof{|X| \\geq \\lambda |\\G} \\leq \\E[X^2|\\G]$ for all $\\lambda > 0$.\n",
    "\n",
    "\n",
    "* *Jensen's inequality*\n",
    "\n",
    "    If $\\phi$ is a convex function defined on $\\R$ and $\\E[|X|]< \\infty$, $\\E[|\\phi(X)|] < \\infty$, then $\\phi(\\E[X | \\G]) \\leq \\E[\\phi(X)|\\G]$.\n",
    "    \n",
    "\n",
    "* *Monotone Convergence Theorem*\n",
    "\n",
    "    If $X_n \\geq 0$ for all $n$ and $X_n \\uparrow X$ with $\\E[X] \\leq +\\infty$, then $\\E[X_n | \\G] \\uparrow \\E[X |\\G]$.\n",
    "    \n",
    "\n",
    "* *Fatou's lemma*\n",
    "\n",
    "    $X_n \\geq 0$ for all $n$, then $\\E[ \\liminf X_n |\\G] \\leq \\liminf \\E[X_n | \\G]$. \n",
    "    \n",
    "\n",
    "* *Lebesgue Dominating Convergence Theorem*\n",
    "\n",
    "    If $X_n \\to X$ and $|X_n| \\leq Y$ with $\\E[Y] < \\infty$, then $\\E[X_n | \\G] \\to \\E[X | \\G]$.\n",
    "  \n",
    "  \n",
    "* *Tower property*\n",
    "\n",
    "    If $\\G_1 \\subset \\G_2$ are $\\sigma$-fields, then $\\E[ \\E[X | \\G_2] |\\G_1] = \\E[ \\E[X | \\G_1] |\\G_2] = \\E[X |\\G_1]$.\n",
    "    \n",
    "    \n",
    "* If $X$ is $\\G$-measurable and $\\E[|Y|]<\\infty$, $\\E[|XY|]<\\infty$, then $\\E[XY | \\G] = X\\E[Y|\\G]$.\n",
    "\n",
    "\n",
    "* *Minimizing property*\n",
    "\n",
    "    If $\\E[X^2] < \\infty$, then $\\E[X|\\G]$ is the (unique) $\\G$-measurable random variable that minimizes the mean square error $\\E|X - Y|^2$ over the space of all square integrable $\\G$-measurable random variables.\n"
   ]
  },
  {
   "cell_type": "markdown",
   "metadata": {},
   "source": [
    "## Independence of $\\sigma$-algebras\n",
    "\n",
    "Let $\\cF$ and $\\cG$ be two $\\sigma$-algebras.\n",
    "\n",
    "#### Definition \n",
    "$\\cF$ and $\\cG$ are called *independent* if for every $F \\in \\cF$ and $G \\in \\cG$ it holds that \n",
    "\n",
    "$$\n",
    "\\Pof{F \\cap G} = \\Pof{F} \\; \\Pof{G}. \n",
    "$$\n",
    "\n",
    "#### Theorem \n",
    "Two random variables $X$ and $Y$ are independent if and only if the $\\sigma$-algebras $\\cF^X$ and $\\cF^Y$ are independent.  \n",
    "\n",
    "For genenral case, we have \n",
    "\n",
    "#### Definition \n",
    "$\\sigma$-algebras $\\cF_1, \\cdots, \\cF_n$ are called *independent* if for every $F_1 \\in \\cF_1, \\cdots, F_n \\in \\cF_n$, it holds that \n",
    "\n",
    "$$\n",
    "\\Pof{\\bigcap_{i=1}^n F_i} = \\prod_{i=1}^n \\Pof{F_i}. \n",
    "$$\n",
    "\n",
    "#### Theorem \n",
    ">- Random variables $X_1, \\cdots, X_n$ are independent if and only if the $\\sigma$-algebras $\\cF^{X_1}, \\cdots, \\cF^{X_n}$ are independent.\n",
    "\n",
    ">- Events $A_1, \\cdots, A_n$ are independent if and only if the $\\sigma$-algebras $\\cF^{A_1}, \\cdots, \\cF^{A_n}$ are independent."
   ]
  },
  {
   "cell_type": "markdown",
   "metadata": {
    "slideshow": {
     "slide_type": "slide"
    }
   },
   "source": [
    "## Stochastic process\n",
    "\n",
    "Let $(\\Omega, \\cF, \\P)$ be a probability space and $T=\\mathbb{N}\\cup\\{0\\}$ (the set of all nonnegative integers), $T = \\R$, or $T = \\{0,1,2,\\cdots, N\\}$, $N < \\infty$.\n",
    "\n",
    "#### Definition\n",
    "A stochastic process is a map $X:T \\times \\Omega \\to \\R$ such that, for each $t\\in T$, $X_t=X_t(\\omega):=X(t,\\omega)$ is a random variable.\n",
    "\n",
    "\n",
    "* For each fixed $\\omega \\in \\Omega$, the mapping $X(\\cdot,\\omega):T \\to \\R$ is called a *sample path*.\n"
   ]
  },
  {
   "cell_type": "markdown",
   "metadata": {
    "slideshow": {
     "slide_type": "slide"
    }
   },
   "source": [
    "## Filtration and filtered probability space\n",
    "\n",
    "\n",
    "#### Definition (Filtration)\n",
    "\n",
    "An increasing family of $\\sigma$-fields indexed by the set $T$, i.e., $\\{ \\cF_t \\}_{t\\in T}$ is a family of $\\sigma$-fields such that $\\cF_s \\subset \\cF_t$ for every $s,t \\in T$ and $s < t$, is called a *filtration*. We\n",
    "  usually assume $\\cF_0 = \\{ \\emptyset, \\Omega\\}$ and $\\cF_N = \\cF$.\n",
    "\n",
    "\n",
    "#### Definition (Filtered probability space)\n",
    "\n",
    "The probability space $(\\Omega, \\cF, \\P)$ equipped with a filtration $\\cF_t$, denoted by $(\\Omega, \\cF_t, \\P)$, is called a *filtered probability space*.\n",
    "\n",
    "\n",
    "#### Definition (Adaptedness)\n",
    "\n",
    "A stochastic process $X$ is called *adapted* to the filtration $\\cF_t$ if $X_t$ is $\\cF_t$-measurable for every $t \\in T$.\n"
   ]
  },
  {
   "cell_type": "markdown",
   "metadata": {
    "slideshow": {
     "slide_type": "slide"
    }
   },
   "source": [
    "## Predictable process\n",
    "\n",
    "Let $(\\Omega, \\cF_t, \\P)$ be a filtered probability space.\n",
    "\n",
    "#### Definition (Predictable processes)\n",
    "\n",
    "A stochastic process $H$ defined on $\\Omega$ is called *predictable* if $H_t$ is $\\cF_{t-1}$-measurable for every $t \\in T$. Note that, as a convention, we don't define $H_0$. \n"
   ]
  },
  {
   "cell_type": "markdown",
   "metadata": {
    "slideshow": {
     "slide_type": "slide"
    }
   },
   "source": [
    "## Stopping time\n",
    "\n",
    "A random variable $\\tau:\\Omega \\to T$ is called a stopping time if $\\{\\tau \\leq t\\} \\in \\F_t$ for all $t \\in T$.\n",
    "\n",
    "\n",
    "* In the discrete time case, the above definition of stopping time is equivalent to $\\{ \\tau = t \\} \\in \\F_t$ for all $t \\in T$.\n",
    "\n",
    "\n",
    "* Typical stopping times are hitting times or the first time that a process leaves/enters a specific interval."
   ]
  }
 ],
 "metadata": {
  "celltoolbar": "Slideshow",
  "kernelspec": {
   "display_name": "Python 3",
   "language": "python",
   "name": "python3"
  },
  "language_info": {
   "codemirror_mode": {
    "name": "ipython",
    "version": 3
   },
   "file_extension": ".py",
   "mimetype": "text/x-python",
   "name": "python",
   "nbconvert_exporter": "python",
   "pygments_lexer": "ipython3",
   "version": "3.6.1"
  }
 },
 "nbformat": 4,
 "nbformat_minor": 1
}
